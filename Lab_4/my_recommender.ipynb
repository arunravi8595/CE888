{
  "nbformat": 4,
  "nbformat_minor": 0,
  "metadata": {
    "colab": {
      "name": "my_recommender.ipynb",
      "provenance": [],
      "authorship_tag": "ABX9TyOHWIaZD8TOTtKpqaArDjIJ",
      "include_colab_link": true
    },
    "kernelspec": {
      "name": "python3",
      "display_name": "Python 3"
    }
  },
  "cells": [
    {
      "cell_type": "markdown",
      "metadata": {
        "id": "view-in-github",
        "colab_type": "text"
      },
      "source": [
        "<a href=\"https://colab.research.google.com/github/arunravi8595/CE888/blob/main/Lab_4/my_recommender.ipynb\" target=\"_parent\"><img src=\"https://colab.research.google.com/assets/colab-badge.svg\" alt=\"Open In Colab\"/></a>"
      ]
    },
    {
      "cell_type": "code",
      "metadata": {
        "id": "cmsq2ZYuPN1F"
      },
      "source": [
        "import pandas as pd\r\n",
        "import numpy as np\r\n",
        "from sklearn.svm import SVC\r\n",
        "\r\n",
        "np.set_printoptions(precision=3)"
      ],
      "execution_count": 2,
      "outputs": []
    },
    {
      "cell_type": "code",
      "metadata": {
        "id": "swtx7R4Onj2g",
        "colab": {
          "base_uri": "https://localhost:8080/"
        },
        "outputId": "b33a38aa-8ba7-4199-cbd8-cae340a6556c"
      },
      "source": [
        "df = pd.read_csv(\"https://raw.githubusercontent.com/albanda/CE888/master/lab4-recommender/jester-data-1.csv\", header = None, delimiter = \",\")\r\n",
        "\r\n",
        "print(df)"
      ],
      "execution_count": 13,
      "outputs": [
        {
          "output_type": "stream",
          "text": [
            "       0      1      2      3      4    ...    96     97     98     99     100\n",
            "0       74  -7.82   8.79  -9.66  -8.16  ...  99.00  -5.63  99.00  99.00  99.00\n",
            "1      100   4.08  -0.29   6.36   4.37  ...  -2.14   3.06   0.34  -4.32   1.07\n",
            "2       49  99.00  99.00  99.00  99.00  ...  99.00  99.00  99.00  99.00  99.00\n",
            "3       48  99.00   8.35  99.00  99.00  ...  99.00  99.00  99.00  99.00  99.00\n",
            "4       91   8.50   4.61  -4.17  -5.39  ...   1.55   3.11   6.55   1.80   1.60\n",
            "...    ...    ...    ...    ...    ...  ...    ...    ...    ...    ...    ...\n",
            "24978  100   0.44   7.43   9.08   2.33  ...   9.03   6.55   8.69   8.79   7.43\n",
            "24979   91   9.13  -8.16   8.59   9.08  ...  -8.20  -7.23  -8.59   9.13   8.45\n",
            "24980   39  99.00  99.00  99.00  99.00  ...  99.00  99.00  99.00  99.00  99.00\n",
            "24981   37  99.00  99.00  99.00  99.00  ...  99.00  99.00  99.00  99.00  99.00\n",
            "24982   72   2.43   2.67  -3.98   4.27  ...  99.00  99.00  99.00  99.00  99.00\n",
            "\n",
            "[24983 rows x 101 columns]\n"
          ],
          "name": "stdout"
        }
      ]
    },
    {
      "cell_type": "code",
      "metadata": {
        "colab": {
          "base_uri": "https://localhost:8080/"
        },
        "id": "0GdHoqn-tkgD",
        "outputId": "a6a3fe33-f136-4bd1-991f-9d1fc4b4deb4"
      },
      "source": [
        "arr = df.values\r\n",
        "print(arr.shape)"
      ],
      "execution_count": 4,
      "outputs": [
        {
          "output_type": "stream",
          "text": [
            "(24982, 101)\n"
          ],
          "name": "stdout"
        }
      ]
    },
    {
      "cell_type": "code",
      "metadata": {
        "colab": {
          "base_uri": "https://localhost:8080/"
        },
        "id": "_L14Tl9Btvzx",
        "outputId": "173f7f03-5ea5-4b3f-8dfa-c0d05dfa1e51"
      },
      "source": [
        "\r\n",
        "rated = np.where(arr!=99)\r\n",
        "print(len(rated[0]), rated[1].shape)"
      ],
      "execution_count": 6,
      "outputs": [
        {
          "output_type": "stream",
          "text": [
            "1835282 (1835282,)\n"
          ],
          "name": "stdout"
        }
      ]
    },
    {
      "cell_type": "code",
      "metadata": {
        "id": "OkQi_l_ft2Yf"
      },
      "source": [
        "def replace(orig, percentage=0.1):\r\n",
        "  \"\"\"\r\n",
        "  Replaces 'percentage'% of the original values in 'orig' with 99's\r\n",
        "  :param orig: original data array\r\n",
        "  :param percentage: percentage of values to replace (0<percentage<1)\r\n",
        "  \"\"\"\r\n",
        "  new_data = orig.copy()\r\n",
        "  rated = np.where(arr!=99)\r\n",
        "  n_rated = len(rated[0])\r\n",
        "  idx = np.random.choice(n_rated, size=int(percentage*n_rated), replace=False)\r\n",
        "  new_data[rated[0][idx], rated[1][idx]] = 99\r\n",
        "  return new_data, (rated[0][idx], rated[1][idx])"
      ],
      "execution_count": 9,
      "outputs": []
    },
    {
      "cell_type": "code",
      "metadata": {
        "id": "q98_m7Z6t74V"
      },
      "source": [
        "new_arr, idx = replace(arr, 0.1)"
      ],
      "execution_count": 10,
      "outputs": []
    },
    {
      "cell_type": "code",
      "metadata": {
        "colab": {
          "base_uri": "https://localhost:8080/"
        },
        "id": "1ymXGfTzt8nf",
        "outputId": "17004a75-b938-45ee-fefd-2cd4dcfd8250"
      },
      "source": [
        "arr[idx[0][0], idx[1][0]]\r\n"
      ],
      "execution_count": 11,
      "outputs": [
        {
          "output_type": "execute_result",
          "data": {
            "text/plain": [
              "-3.74"
            ]
          },
          "metadata": {
            "tags": []
          },
          "execution_count": 11
        }
      ]
    },
    {
      "cell_type": "code",
      "metadata": {
        "colab": {
          "base_uri": "https://localhost:8080/"
        },
        "id": "RXvB1DY0t_Hm",
        "outputId": "1e0cdce0-cf6c-4cdf-e0bd-e4757c651bcd"
      },
      "source": [
        "new_arr[idx[0][0], idx[1][0]]\r\n"
      ],
      "execution_count": 12,
      "outputs": [
        {
          "output_type": "execute_result",
          "data": {
            "text/plain": [
              "99.0"
            ]
          },
          "metadata": {
            "tags": []
          },
          "execution_count": 12
        }
      ]
    },
    {
      "cell_type": "code",
      "metadata": {
        "colab": {
          "base_uri": "https://localhost:8080/",
          "height": 163
        },
        "id": "oAdIbMitynIF",
        "outputId": "8073800b-4d0d-43ae-8cce-c900469460ab"
      },
      "source": [
        "rated = np.where(~np.isnan(orig))\r\n"
      ],
      "execution_count": 21,
      "outputs": [
        {
          "output_type": "error",
          "ename": "NameError",
          "evalue": "ignored",
          "traceback": [
            "\u001b[0;31m---------------------------------------------------------------------------\u001b[0m",
            "\u001b[0;31mNameError\u001b[0m                                 Traceback (most recent call last)",
            "\u001b[0;32m<ipython-input-21-dada7a04bec9>\u001b[0m in \u001b[0;36m<module>\u001b[0;34m()\u001b[0m\n\u001b[0;32m----> 1\u001b[0;31m \u001b[0mrated\u001b[0m \u001b[0;34m=\u001b[0m \u001b[0mnp\u001b[0m\u001b[0;34m.\u001b[0m\u001b[0mwhere\u001b[0m\u001b[0;34m(\u001b[0m\u001b[0;34m~\u001b[0m\u001b[0mnp\u001b[0m\u001b[0;34m.\u001b[0m\u001b[0misnan\u001b[0m\u001b[0;34m(\u001b[0m\u001b[0morig\u001b[0m\u001b[0;34m)\u001b[0m\u001b[0;34m)\u001b[0m\u001b[0;34m\u001b[0m\u001b[0;34m\u001b[0m\u001b[0m\n\u001b[0m",
            "\u001b[0;31mNameError\u001b[0m: name 'orig' is not defined"
          ]
        }
      ]
    }
  ]
}