{
  "nbformat": 4,
  "nbformat_minor": 0,
  "metadata": {
    "colab": {
      "name": "Assignment.ipynb",
      "provenance": [],
      "collapsed_sections": [],
      "authorship_tag": "ABX9TyP30st3TuVX8Rsx2erDeCq6",
      "include_colab_link": true
    },
    "kernelspec": {
      "name": "python3",
      "display_name": "Python 3"
    }
  },
  "cells": [
    {
      "cell_type": "markdown",
      "metadata": {
        "id": "view-in-github",
        "colab_type": "text"
      },
      "source": [
        "<a href=\"https://colab.research.google.com/github/arunravi8595/CE888/blob/main/Assignment/Assignment.ipynb\" target=\"_parent\"><img src=\"https://colab.research.google.com/assets/colab-badge.svg\" alt=\"Open In Colab\"/></a>"
      ]
    },
    {
      "cell_type": "code",
      "metadata": {
        "id": "DQI_qJcmJHy5"
      },
      "source": [
        "import numpy as np\r\n",
        "import pandas as pd\r\n",
        "import seaborn as sns\r\n",
        "import matplotlib.pyplot as plt"
      ],
      "execution_count": 82,
      "outputs": []
    },
    {
      "cell_type": "code",
      "metadata": {
        "id": "Fi7hNFAcAwt2"
      },
      "source": [
        "#Load data\r\n",
        "Police_search = pd.read_csv('https://raw.githubusercontent.com/arunravi8595/CE888/main/Assignment/2020-12-essex-stop-and-search.csv') \r\n",
        "Census_data = pd.read_csv('https://raw.githubusercontent.com/arunravi8595/CE888/main/Assignment/Essex_Ethnicity_Census.csv')"
      ],
      "execution_count": 83,
      "outputs": []
    },
    {
      "cell_type": "code",
      "metadata": {
        "colab": {
          "base_uri": "https://localhost:8080/"
        },
        "id": "L_25CwJRWP2_",
        "outputId": "e8d4a362-ef21-46ab-e45f-09c0a4ad38e9"
      },
      "source": [
        "Police_search.shape"
      ],
      "execution_count": 84,
      "outputs": [
        {
          "output_type": "execute_result",
          "data": {
            "text/plain": [
              "(422, 15)"
            ]
          },
          "metadata": {
            "tags": []
          },
          "execution_count": 84
        }
      ]
    },
    {
      "cell_type": "code",
      "metadata": {
        "colab": {
          "base_uri": "https://localhost:8080/"
        },
        "id": "lQBYE8RYX5fA",
        "outputId": "f0755d1c-34cd-4064-e372-0cdc58153797"
      },
      "source": [
        "Police_search.isnull().sum()"
      ],
      "execution_count": 85,
      "outputs": [
        {
          "output_type": "execute_result",
          "data": {
            "text/plain": [
              "Type                                          0\n",
              "Date                                          0\n",
              "Part of a policing operation                  0\n",
              "Policing operation                          422\n",
              "Latitude                                      4\n",
              "Longitude                                     4\n",
              "Gender                                       37\n",
              "Age range                                    45\n",
              "Self-defined ethnicity                       37\n",
              "Officer-defined ethnicity                    48\n",
              "Legislation                                   0\n",
              "Object of search                              0\n",
              "Outcome                                       3\n",
              "Outcome linked to object of search            0\n",
              "Removal of more than just outer clothing     37\n",
              "dtype: int64"
            ]
          },
          "metadata": {
            "tags": []
          },
          "execution_count": 85
        }
      ]
    },
    {
      "cell_type": "code",
      "metadata": {
        "id": "4LDRMVZ_YQQV"
      },
      "source": [
        "Police_search = Police_search[Police_search[\"Outcome\"].notna()]"
      ],
      "execution_count": 86,
      "outputs": []
    },
    {
      "cell_type": "code",
      "metadata": {
        "colab": {
          "base_uri": "https://localhost:8080/",
          "height": 581
        },
        "id": "7kvmxcHKWZmv",
        "outputId": "9d5a0349-4576-42d8-dd0e-cc2e55ece847"
      },
      "source": [
        "Police_search.head()"
      ],
      "execution_count": 87,
      "outputs": [
        {
          "output_type": "execute_result",
          "data": {
            "text/html": [
              "<div>\n",
              "<style scoped>\n",
              "    .dataframe tbody tr th:only-of-type {\n",
              "        vertical-align: middle;\n",
              "    }\n",
              "\n",
              "    .dataframe tbody tr th {\n",
              "        vertical-align: top;\n",
              "    }\n",
              "\n",
              "    .dataframe thead th {\n",
              "        text-align: right;\n",
              "    }\n",
              "</style>\n",
              "<table border=\"1\" class=\"dataframe\">\n",
              "  <thead>\n",
              "    <tr style=\"text-align: right;\">\n",
              "      <th></th>\n",
              "      <th>Type</th>\n",
              "      <th>Date</th>\n",
              "      <th>Part of a policing operation</th>\n",
              "      <th>Policing operation</th>\n",
              "      <th>Latitude</th>\n",
              "      <th>Longitude</th>\n",
              "      <th>Gender</th>\n",
              "      <th>Age range</th>\n",
              "      <th>Self-defined ethnicity</th>\n",
              "      <th>Officer-defined ethnicity</th>\n",
              "      <th>Legislation</th>\n",
              "      <th>Object of search</th>\n",
              "      <th>Outcome</th>\n",
              "      <th>Outcome linked to object of search</th>\n",
              "      <th>Removal of more than just outer clothing</th>\n",
              "    </tr>\n",
              "  </thead>\n",
              "  <tbody>\n",
              "    <tr>\n",
              "      <th>0</th>\n",
              "      <td>Person and Vehicle search</td>\n",
              "      <td>2020-12-01T00:01:00+00:00</td>\n",
              "      <td>False</td>\n",
              "      <td>NaN</td>\n",
              "      <td>51.881413</td>\n",
              "      <td>0.215455</td>\n",
              "      <td>Female</td>\n",
              "      <td>25-34</td>\n",
              "      <td>Other ethnic group - Not stated</td>\n",
              "      <td>White</td>\n",
              "      <td>Police and Criminal Evidence Act 1984 (section 1)</td>\n",
              "      <td>Articles for use in criminal damage</td>\n",
              "      <td>A no further action disposal</td>\n",
              "      <td>False</td>\n",
              "      <td>False</td>\n",
              "    </tr>\n",
              "    <tr>\n",
              "      <th>1</th>\n",
              "      <td>Person search</td>\n",
              "      <td>2020-12-01T00:01:00+00:00</td>\n",
              "      <td>False</td>\n",
              "      <td>NaN</td>\n",
              "      <td>51.636110</td>\n",
              "      <td>0.062590</td>\n",
              "      <td>Female</td>\n",
              "      <td>18-24</td>\n",
              "      <td>White - English/Welsh/Scottish/Northern Irish/...</td>\n",
              "      <td>White</td>\n",
              "      <td>Misuse of Drugs Act 1971 (section 23)</td>\n",
              "      <td>Controlled drugs</td>\n",
              "      <td>A no further action disposal</td>\n",
              "      <td>False</td>\n",
              "      <td>False</td>\n",
              "    </tr>\n",
              "    <tr>\n",
              "      <th>2</th>\n",
              "      <td>Person search</td>\n",
              "      <td>2020-12-01T00:01:00+00:00</td>\n",
              "      <td>False</td>\n",
              "      <td>NaN</td>\n",
              "      <td>51.636546</td>\n",
              "      <td>0.063333</td>\n",
              "      <td>Male</td>\n",
              "      <td>18-24</td>\n",
              "      <td>Black/African/Caribbean/Black British - Caribbean</td>\n",
              "      <td>Black</td>\n",
              "      <td>Misuse of Drugs Act 1971 (section 23)</td>\n",
              "      <td>Controlled drugs</td>\n",
              "      <td>A no further action disposal</td>\n",
              "      <td>False</td>\n",
              "      <td>False</td>\n",
              "    </tr>\n",
              "    <tr>\n",
              "      <th>3</th>\n",
              "      <td>Person search</td>\n",
              "      <td>2020-12-01T01:01:00+00:00</td>\n",
              "      <td>False</td>\n",
              "      <td>NaN</td>\n",
              "      <td>51.629479</td>\n",
              "      <td>0.439730</td>\n",
              "      <td>Male</td>\n",
              "      <td>18-24</td>\n",
              "      <td>Other ethnic group - Not stated</td>\n",
              "      <td>White</td>\n",
              "      <td>Misuse of Drugs Act 1971 (section 23)</td>\n",
              "      <td>Controlled drugs</td>\n",
              "      <td>A no further action disposal</td>\n",
              "      <td>False</td>\n",
              "      <td>False</td>\n",
              "    </tr>\n",
              "    <tr>\n",
              "      <th>4</th>\n",
              "      <td>Vehicle search</td>\n",
              "      <td>2020-12-01T01:01:00+00:00</td>\n",
              "      <td>False</td>\n",
              "      <td>NaN</td>\n",
              "      <td>51.629479</td>\n",
              "      <td>0.439730</td>\n",
              "      <td>NaN</td>\n",
              "      <td>NaN</td>\n",
              "      <td>NaN</td>\n",
              "      <td>NaN</td>\n",
              "      <td>Misuse of Drugs Act 1971 (section 23)</td>\n",
              "      <td>Controlled drugs</td>\n",
              "      <td>A no further action disposal</td>\n",
              "      <td>False</td>\n",
              "      <td>NaN</td>\n",
              "    </tr>\n",
              "  </tbody>\n",
              "</table>\n",
              "</div>"
            ],
            "text/plain": [
              "                        Type  ... Removal of more than just outer clothing\n",
              "0  Person and Vehicle search  ...                                    False\n",
              "1              Person search  ...                                    False\n",
              "2              Person search  ...                                    False\n",
              "3              Person search  ...                                    False\n",
              "4             Vehicle search  ...                                      NaN\n",
              "\n",
              "[5 rows x 15 columns]"
            ]
          },
          "metadata": {
            "tags": []
          },
          "execution_count": 87
        }
      ]
    },
    {
      "cell_type": "code",
      "metadata": {
        "colab": {
          "base_uri": "https://localhost:8080/"
        },
        "id": "Xeg2qpDIWkIM",
        "outputId": "72ab4749-f7d0-4389-b431-621015eb67a0"
      },
      "source": [
        "Police_search[\"Officer-defined ethnicity\"].value_counts()"
      ],
      "execution_count": 88,
      "outputs": [
        {
          "output_type": "execute_result",
          "data": {
            "text/plain": [
              "White    302\n",
              "Black     46\n",
              "Other     12\n",
              "Asian     12\n",
              "Name: Officer-defined ethnicity, dtype: int64"
            ]
          },
          "metadata": {
            "tags": []
          },
          "execution_count": 88
        }
      ]
    },
    {
      "cell_type": "code",
      "metadata": {
        "colab": {
          "base_uri": "https://localhost:8080/",
          "height": 296
        },
        "id": "Z9XeZUH5Wu5Q",
        "outputId": "11f0aa9e-98f6-4bac-b262-8ad6d059be05"
      },
      "source": [
        "sns.countplot(x=\"Officer-defined ethnicity\", data = Police_search)"
      ],
      "execution_count": 89,
      "outputs": [
        {
          "output_type": "execute_result",
          "data": {
            "text/plain": [
              "<matplotlib.axes._subplots.AxesSubplot at 0x7f782334fe10>"
            ]
          },
          "metadata": {
            "tags": []
          },
          "execution_count": 89
        },
        {
          "output_type": "display_data",
          "data": {
            "image/png": "[encoded data removed]",
            "text/plain": [
              "<Figure size 432x288 with 1 Axes>"
            ]
          },
          "metadata": {
            "tags": [],
            "needs_background": "light"
          }
        }
      ]
    },
    {
      "cell_type": "code",
      "metadata": {
        "colab": {
          "base_uri": "https://localhost:8080/"
        },
        "id": "2Pp-QUxLf_o6",
        "outputId": "cb907c73-ec91-4a1e-f08f-16e64fb1957c"
      },
      "source": [
        "Census_data.shape"
      ],
      "execution_count": 90,
      "outputs": [
        {
          "output_type": "execute_result",
          "data": {
            "text/plain": [
              "(15, 27)"
            ]
          },
          "metadata": {
            "tags": []
          },
          "execution_count": 90
        }
      ]
    },
    {
      "cell_type": "code",
      "metadata": {
        "colab": {
          "base_uri": "https://localhost:8080/"
        },
        "id": "L8AxCc9TgFT4",
        "outputId": "4d426b9f-73b4-4aa1-9b3a-cb9043233163"
      },
      "source": [
        "Census_data.isnull().sum()\r\n"
      ],
      "execution_count": 91,
      "outputs": [
        {
          "output_type": "execute_result",
          "data": {
            "text/plain": [
              "District                                                   0\n",
              "All categories: Ethnic group                               0\n",
              "White: British                                             0\n",
              "White: Irish                                               0\n",
              "White: Gypsy or Irish Traveller                            0\n",
              "White: Other White                                         0\n",
              "Mixed/multiple ethnic group: White and Black Caribbean     0\n",
              "Mixed/multiple ethnic group: White and Black African       0\n",
              "Mixed/multiple ethnic group: White and Asian               0\n",
              "Mixed/multiple ethnic group: Other Mixed                   0\n",
              "Mixed/Multiple Ethnic Group (Total)                        0\n",
              "Asian/Asian British: Indian                                0\n",
              "Asian/Asian British: Pakistani                             0\n",
              "Asian/Asian British: Bangladeshi                           0\n",
              "Asian/Asian British: Chinese                               0\n",
              "Asian/Asian British: Other Asian                           0\n",
              "Asian/Asian British (Total)                                0\n",
              "Black/African/Caribbean/Black British: African             0\n",
              "Black/African/Caribbean/Black British: Caribbean           0\n",
              "Black/African/Caribbean/Black British: Other Black         0\n",
              "Black/Black British (Total)                                0\n",
              "Other ethnic group: Arab                                   0\n",
              "Other ethnic group: Any other ethnic group                 0\n",
              "Other Ethnic Groups (Total)                                0\n",
              "Unnamed: 24                                               15\n",
              "BAME                                                       0\n",
              "BAME %                                                     0\n",
              "dtype: int64"
            ]
          },
          "metadata": {
            "tags": []
          },
          "execution_count": 91
        }
      ]
    },
    {
      "cell_type": "code",
      "metadata": {
        "colab": {
          "base_uri": "https://localhost:8080/",
          "height": 343
        },
        "id": "PB14J4sMgQtU",
        "outputId": "2adb14ca-9fcf-481f-ddb7-43aadb041635"
      },
      "source": [
        "Census_data.head()"
      ],
      "execution_count": 104,
      "outputs": [
        {
          "output_type": "execute_result",
          "data": {
            "text/html": [
              "<div>\n",
              "<style scoped>\n",
              "    .dataframe tbody tr th:only-of-type {\n",
              "        vertical-align: middle;\n",
              "    }\n",
              "\n",
              "    .dataframe tbody tr th {\n",
              "        vertical-align: top;\n",
              "    }\n",
              "\n",
              "    .dataframe thead th {\n",
              "        text-align: right;\n",
              "    }\n",
              "</style>\n",
              "<table border=\"1\" class=\"dataframe\">\n",
              "  <thead>\n",
              "    <tr style=\"text-align: right;\">\n",
              "      <th></th>\n",
              "      <th>District</th>\n",
              "      <th>All categories: Ethnic group</th>\n",
              "      <th>White: British</th>\n",
              "      <th>White: Irish</th>\n",
              "      <th>White: Gypsy or Irish Traveller</th>\n",
              "      <th>White: Other White</th>\n",
              "      <th>Mixed/multiple ethnic group: White and Black Caribbean</th>\n",
              "      <th>Mixed/multiple ethnic group: White and Black African</th>\n",
              "      <th>Mixed/multiple ethnic group: White and Asian</th>\n",
              "      <th>Mixed/multiple ethnic group: Other Mixed</th>\n",
              "      <th>Mixed/Multiple Ethnic Group (Total)</th>\n",
              "      <th>Asian/Asian British: Indian</th>\n",
              "      <th>Asian/Asian British: Pakistani</th>\n",
              "      <th>Asian/Asian British: Bangladeshi</th>\n",
              "      <th>Asian/Asian British: Chinese</th>\n",
              "      <th>Asian/Asian British: Other Asian</th>\n",
              "      <th>Asian/Asian British (Total)</th>\n",
              "      <th>Black/African/Caribbean/Black British: African</th>\n",
              "      <th>Black/African/Caribbean/Black British: Caribbean</th>\n",
              "      <th>Black/African/Caribbean/Black British: Other Black</th>\n",
              "      <th>Black/Black British (Total)</th>\n",
              "      <th>Other ethnic group: Arab</th>\n",
              "      <th>Other ethnic group: Any other ethnic group</th>\n",
              "      <th>Other Ethnic Groups (Total)</th>\n",
              "      <th>Unnamed: 24</th>\n",
              "      <th>BAME</th>\n",
              "      <th>BAME %</th>\n",
              "    </tr>\n",
              "  </thead>\n",
              "  <tbody>\n",
              "    <tr>\n",
              "      <th>0</th>\n",
              "      <td>Essex</td>\n",
              "      <td>1393587</td>\n",
              "      <td>1264877</td>\n",
              "      <td>11165</td>\n",
              "      <td>2161</td>\n",
              "      <td>35653</td>\n",
              "      <td>6936</td>\n",
              "      <td>2801</td>\n",
              "      <td>6173</td>\n",
              "      <td>4975</td>\n",
              "      <td>20885</td>\n",
              "      <td>12456</td>\n",
              "      <td>3462</td>\n",
              "      <td>2747</td>\n",
              "      <td>6361</td>\n",
              "      <td>9834</td>\n",
              "      <td>34860</td>\n",
              "      <td>12143</td>\n",
              "      <td>4556</td>\n",
              "      <td>2010</td>\n",
              "      <td>18709</td>\n",
              "      <td>2042</td>\n",
              "      <td>3235</td>\n",
              "      <td>5277</td>\n",
              "      <td>NaN</td>\n",
              "      <td>79731</td>\n",
              "      <td>5.72%</td>\n",
              "    </tr>\n",
              "    <tr>\n",
              "      <th>1</th>\n",
              "      <td>Basildon</td>\n",
              "      <td>174497</td>\n",
              "      <td>156215</td>\n",
              "      <td>1313</td>\n",
              "      <td>873</td>\n",
              "      <td>3276</td>\n",
              "      <td>1131</td>\n",
              "      <td>461</td>\n",
              "      <td>668</td>\n",
              "      <td>627</td>\n",
              "      <td>2887</td>\n",
              "      <td>2089</td>\n",
              "      <td>436</td>\n",
              "      <td>322</td>\n",
              "      <td>584</td>\n",
              "      <td>1335</td>\n",
              "      <td>4766</td>\n",
              "      <td>3339</td>\n",
              "      <td>931</td>\n",
              "      <td>415</td>\n",
              "      <td>4685</td>\n",
              "      <td>112</td>\n",
              "      <td>370</td>\n",
              "      <td>482</td>\n",
              "      <td>NaN</td>\n",
              "      <td>12820</td>\n",
              "      <td>7.35%</td>\n",
              "    </tr>\n",
              "    <tr>\n",
              "      <th>2</th>\n",
              "      <td>Braintree</td>\n",
              "      <td>147084</td>\n",
              "      <td>137010</td>\n",
              "      <td>1051</td>\n",
              "      <td>132</td>\n",
              "      <td>3894</td>\n",
              "      <td>554</td>\n",
              "      <td>221</td>\n",
              "      <td>596</td>\n",
              "      <td>466</td>\n",
              "      <td>1837</td>\n",
              "      <td>625</td>\n",
              "      <td>122</td>\n",
              "      <td>190</td>\n",
              "      <td>335</td>\n",
              "      <td>726</td>\n",
              "      <td>1998</td>\n",
              "      <td>540</td>\n",
              "      <td>286</td>\n",
              "      <td>87</td>\n",
              "      <td>913</td>\n",
              "      <td>65</td>\n",
              "      <td>184</td>\n",
              "      <td>249</td>\n",
              "      <td>NaN</td>\n",
              "      <td>4997</td>\n",
              "      <td>3.40%</td>\n",
              "    </tr>\n",
              "    <tr>\n",
              "      <th>3</th>\n",
              "      <td>Brentwood</td>\n",
              "      <td>73601</td>\n",
              "      <td>65688</td>\n",
              "      <td>921</td>\n",
              "      <td>121</td>\n",
              "      <td>2138</td>\n",
              "      <td>343</td>\n",
              "      <td>138</td>\n",
              "      <td>444</td>\n",
              "      <td>271</td>\n",
              "      <td>1196</td>\n",
              "      <td>939</td>\n",
              "      <td>113</td>\n",
              "      <td>172</td>\n",
              "      <td>377</td>\n",
              "      <td>749</td>\n",
              "      <td>2350</td>\n",
              "      <td>542</td>\n",
              "      <td>230</td>\n",
              "      <td>124</td>\n",
              "      <td>896</td>\n",
              "      <td>105</td>\n",
              "      <td>186</td>\n",
              "      <td>291</td>\n",
              "      <td>NaN</td>\n",
              "      <td>4733</td>\n",
              "      <td>6.43%</td>\n",
              "    </tr>\n",
              "    <tr>\n",
              "      <th>4</th>\n",
              "      <td>Castle Point</td>\n",
              "      <td>88011</td>\n",
              "      <td>83943</td>\n",
              "      <td>527</td>\n",
              "      <td>17</td>\n",
              "      <td>786</td>\n",
              "      <td>346</td>\n",
              "      <td>104</td>\n",
              "      <td>264</td>\n",
              "      <td>197</td>\n",
              "      <td>911</td>\n",
              "      <td>378</td>\n",
              "      <td>67</td>\n",
              "      <td>87</td>\n",
              "      <td>220</td>\n",
              "      <td>260</td>\n",
              "      <td>1012</td>\n",
              "      <td>327</td>\n",
              "      <td>203</td>\n",
              "      <td>131</td>\n",
              "      <td>661</td>\n",
              "      <td>31</td>\n",
              "      <td>123</td>\n",
              "      <td>154</td>\n",
              "      <td>NaN</td>\n",
              "      <td>2738</td>\n",
              "      <td>3.11%</td>\n",
              "    </tr>\n",
              "  </tbody>\n",
              "</table>\n",
              "</div>"
            ],
            "text/plain": [
              "       District All categories: Ethnic group  ...   BAME BAME %\n",
              "0        Essex                       1393587  ...  79731  5.72%\n",
              "1      Basildon                       174497  ...  12820  7.35%\n",
              "2     Braintree                       147084  ...   4997  3.40%\n",
              "3     Brentwood                        73601  ...   4733  6.43%\n",
              "4  Castle Point                        88011  ...   2738  3.11%\n",
              "\n",
              "[5 rows x 27 columns]"
            ]
          },
          "metadata": {
            "tags": []
          },
          "execution_count": 104
        }
      ]
    },
    {
      "cell_type": "code",
      "metadata": {
        "colab": {
          "base_uri": "https://localhost:8080/",
          "height": 272
        },
        "id": "HuVe2yXNlvzG",
        "outputId": "0de90cbf-25c1-4995-eb4a-ec11ef71501d"
      },
      "source": [
        "Census_data = Census_data.T\r\n",
        "Census_data.head()"
      ],
      "execution_count": 105,
      "outputs": [
        {
          "output_type": "execute_result",
          "data": {
            "text/html": [
              "<div>\n",
              "<style scoped>\n",
              "    .dataframe tbody tr th:only-of-type {\n",
              "        vertical-align: middle;\n",
              "    }\n",
              "\n",
              "    .dataframe tbody tr th {\n",
              "        vertical-align: top;\n",
              "    }\n",
              "\n",
              "    .dataframe thead th {\n",
              "        text-align: right;\n",
              "    }\n",
              "</style>\n",
              "<table border=\"1\" class=\"dataframe\">\n",
              "  <thead>\n",
              "    <tr style=\"text-align: right;\">\n",
              "      <th></th>\n",
              "      <th>0</th>\n",
              "      <th>1</th>\n",
              "      <th>2</th>\n",
              "      <th>3</th>\n",
              "      <th>4</th>\n",
              "      <th>5</th>\n",
              "      <th>6</th>\n",
              "      <th>7</th>\n",
              "      <th>8</th>\n",
              "      <th>9</th>\n",
              "      <th>10</th>\n",
              "      <th>11</th>\n",
              "      <th>12</th>\n",
              "      <th>13</th>\n",
              "      <th>14</th>\n",
              "    </tr>\n",
              "  </thead>\n",
              "  <tbody>\n",
              "    <tr>\n",
              "      <th>District</th>\n",
              "      <td>Essex</td>\n",
              "      <td>Basildon</td>\n",
              "      <td>Braintree</td>\n",
              "      <td>Brentwood</td>\n",
              "      <td>Castle Point</td>\n",
              "      <td>Chelmsford</td>\n",
              "      <td>Colchester</td>\n",
              "      <td>Epping Forest</td>\n",
              "      <td>Harlow</td>\n",
              "      <td>Maldon</td>\n",
              "      <td>Rochford</td>\n",
              "      <td>Tendring</td>\n",
              "      <td>Uttlesford</td>\n",
              "      <td>Southend-on-Sea UA</td>\n",
              "      <td>Thurrock UA</td>\n",
              "    </tr>\n",
              "    <tr>\n",
              "      <th>All categories: Ethnic group</th>\n",
              "      <td>1393587</td>\n",
              "      <td>174497</td>\n",
              "      <td>147084</td>\n",
              "      <td>73601</td>\n",
              "      <td>88011</td>\n",
              "      <td>168310</td>\n",
              "      <td>173074</td>\n",
              "      <td>124659</td>\n",
              "      <td>81944</td>\n",
              "      <td>61629</td>\n",
              "      <td>83287</td>\n",
              "      <td>138048</td>\n",
              "      <td>79443</td>\n",
              "      <td>173658</td>\n",
              "      <td>157705</td>\n",
              "    </tr>\n",
              "    <tr>\n",
              "      <th>White: British</th>\n",
              "      <td>1264877</td>\n",
              "      <td>156215</td>\n",
              "      <td>137010</td>\n",
              "      <td>65688</td>\n",
              "      <td>83943</td>\n",
              "      <td>151990</td>\n",
              "      <td>151453</td>\n",
              "      <td>106233</td>\n",
              "      <td>68715</td>\n",
              "      <td>59011</td>\n",
              "      <td>79628</td>\n",
              "      <td>131666</td>\n",
              "      <td>73325</td>\n",
              "      <td>151136</td>\n",
              "      <td>127587</td>\n",
              "    </tr>\n",
              "    <tr>\n",
              "      <th>White: Irish</th>\n",
              "      <td>11165</td>\n",
              "      <td>1313</td>\n",
              "      <td>1051</td>\n",
              "      <td>921</td>\n",
              "      <td>527</td>\n",
              "      <td>1450</td>\n",
              "      <td>1155</td>\n",
              "      <td>1427</td>\n",
              "      <td>875</td>\n",
              "      <td>358</td>\n",
              "      <td>468</td>\n",
              "      <td>998</td>\n",
              "      <td>622</td>\n",
              "      <td>1496</td>\n",
              "      <td>1108</td>\n",
              "    </tr>\n",
              "    <tr>\n",
              "      <th>White: Gypsy or Irish Traveller</th>\n",
              "      <td>2161</td>\n",
              "      <td>873</td>\n",
              "      <td>132</td>\n",
              "      <td>121</td>\n",
              "      <td>17</td>\n",
              "      <td>212</td>\n",
              "      <td>79</td>\n",
              "      <td>176</td>\n",
              "      <td>117</td>\n",
              "      <td>201</td>\n",
              "      <td>49</td>\n",
              "      <td>62</td>\n",
              "      <td>122</td>\n",
              "      <td>162</td>\n",
              "      <td>308</td>\n",
              "    </tr>\n",
              "  </tbody>\n",
              "</table>\n",
              "</div>"
            ],
            "text/plain": [
              "                                      0   ...           14\n",
              "District                          Essex   ...  Thurrock UA\n",
              "All categories: Ethnic group     1393587  ...       157705\n",
              "White: British                   1264877  ...       127587\n",
              "White: Irish                       11165  ...         1108\n",
              "White: Gypsy or Irish Traveller     2161  ...          308\n",
              "\n",
              "[5 rows x 15 columns]"
            ]
          },
          "metadata": {
            "tags": []
          },
          "execution_count": 105
        }
      ]
    },
    {
      "cell_type": "code",
      "metadata": {
        "id": "uTRSGy-Qmf9S"
      },
      "source": [
        ""
      ],
      "execution_count": 102,
      "outputs": []
    },
    {
      "cell_type": "code",
      "metadata": {
        "colab": {
          "base_uri": "https://localhost:8080/",
          "height": 307
        },
        "id": "hujhShTkqeCs",
        "outputId": "85ed647f-607f-478c-8cad-25a18c372927"
      },
      "source": [
        ""
      ],
      "execution_count": 99,
      "outputs": [
        {
          "output_type": "error",
          "ename": "KeyError",
          "evalue": "ignored",
          "traceback": [
            "\u001b[0;31m---------------------------------------------------------------------------\u001b[0m",
            "\u001b[0;31mKeyError\u001b[0m                                  Traceback (most recent call last)",
            "\u001b[0;32m<ipython-input-99-5e7681c43549>\u001b[0m in \u001b[0;36m<module>\u001b[0;34m()\u001b[0m\n\u001b[0;32m----> 1\u001b[0;31m \u001b[0mCensus_data\u001b[0m\u001b[0;34m[\u001b[0m\u001b[0;34m\"District\"\u001b[0m\u001b[0;34m]\u001b[0m\u001b[0;34m.\u001b[0m\u001b[0mvalue_counts\u001b[0m\u001b[0;34m(\u001b[0m\u001b[0;34m)\u001b[0m\u001b[0;34m\u001b[0m\u001b[0;34m\u001b[0m\u001b[0m\n\u001b[0m",
            "\u001b[0;32m/usr/local/lib/python3.6/dist-packages/pandas/core/frame.py\u001b[0m in \u001b[0;36m__getitem__\u001b[0;34m(self, key)\u001b[0m\n\u001b[1;32m   2904\u001b[0m             \u001b[0;32mif\u001b[0m \u001b[0mself\u001b[0m\u001b[0;34m.\u001b[0m\u001b[0mcolumns\u001b[0m\u001b[0;34m.\u001b[0m\u001b[0mnlevels\u001b[0m \u001b[0;34m>\u001b[0m \u001b[0;36m1\u001b[0m\u001b[0;34m:\u001b[0m\u001b[0;34m\u001b[0m\u001b[0;34m\u001b[0m\u001b[0m\n\u001b[1;32m   2905\u001b[0m                 \u001b[0;32mreturn\u001b[0m \u001b[0mself\u001b[0m\u001b[0;34m.\u001b[0m\u001b[0m_getitem_multilevel\u001b[0m\u001b[0;34m(\u001b[0m\u001b[0mkey\u001b[0m\u001b[0;34m)\u001b[0m\u001b[0;34m\u001b[0m\u001b[0;34m\u001b[0m\u001b[0m\n\u001b[0;32m-> 2906\u001b[0;31m             \u001b[0mindexer\u001b[0m \u001b[0;34m=\u001b[0m \u001b[0mself\u001b[0m\u001b[0;34m.\u001b[0m\u001b[0mcolumns\u001b[0m\u001b[0;34m.\u001b[0m\u001b[0mget_loc\u001b[0m\u001b[0;34m(\u001b[0m\u001b[0mkey\u001b[0m\u001b[0;34m)\u001b[0m\u001b[0;34m\u001b[0m\u001b[0;34m\u001b[0m\u001b[0m\n\u001b[0m\u001b[1;32m   2907\u001b[0m             \u001b[0;32mif\u001b[0m \u001b[0mis_integer\u001b[0m\u001b[0;34m(\u001b[0m\u001b[0mindexer\u001b[0m\u001b[0;34m)\u001b[0m\u001b[0;34m:\u001b[0m\u001b[0;34m\u001b[0m\u001b[0;34m\u001b[0m\u001b[0m\n\u001b[1;32m   2908\u001b[0m                 \u001b[0mindexer\u001b[0m \u001b[0;34m=\u001b[0m \u001b[0;34m[\u001b[0m\u001b[0mindexer\u001b[0m\u001b[0;34m]\u001b[0m\u001b[0;34m\u001b[0m\u001b[0;34m\u001b[0m\u001b[0m\n",
            "\u001b[0;32m/usr/local/lib/python3.6/dist-packages/pandas/core/indexes/range.py\u001b[0m in \u001b[0;36mget_loc\u001b[0;34m(self, key, method, tolerance)\u001b[0m\n\u001b[1;32m    356\u001b[0m                 \u001b[0;32mexcept\u001b[0m \u001b[0mValueError\u001b[0m \u001b[0;32mas\u001b[0m \u001b[0merr\u001b[0m\u001b[0;34m:\u001b[0m\u001b[0;34m\u001b[0m\u001b[0;34m\u001b[0m\u001b[0m\n\u001b[1;32m    357\u001b[0m                     \u001b[0;32mraise\u001b[0m \u001b[0mKeyError\u001b[0m\u001b[0;34m(\u001b[0m\u001b[0mkey\u001b[0m\u001b[0;34m)\u001b[0m \u001b[0;32mfrom\u001b[0m \u001b[0merr\u001b[0m\u001b[0;34m\u001b[0m\u001b[0;34m\u001b[0m\u001b[0m\n\u001b[0;32m--> 358\u001b[0;31m             \u001b[0;32mraise\u001b[0m \u001b[0mKeyError\u001b[0m\u001b[0;34m(\u001b[0m\u001b[0mkey\u001b[0m\u001b[0;34m)\u001b[0m\u001b[0;34m\u001b[0m\u001b[0;34m\u001b[0m\u001b[0m\n\u001b[0m\u001b[1;32m    359\u001b[0m         \u001b[0;32mreturn\u001b[0m \u001b[0msuper\u001b[0m\u001b[0;34m(\u001b[0m\u001b[0;34m)\u001b[0m\u001b[0;34m.\u001b[0m\u001b[0mget_loc\u001b[0m\u001b[0;34m(\u001b[0m\u001b[0mkey\u001b[0m\u001b[0;34m,\u001b[0m \u001b[0mmethod\u001b[0m\u001b[0;34m=\u001b[0m\u001b[0mmethod\u001b[0m\u001b[0;34m,\u001b[0m \u001b[0mtolerance\u001b[0m\u001b[0;34m=\u001b[0m\u001b[0mtolerance\u001b[0m\u001b[0;34m)\u001b[0m\u001b[0;34m\u001b[0m\u001b[0;34m\u001b[0m\u001b[0m\n\u001b[1;32m    360\u001b[0m \u001b[0;34m\u001b[0m\u001b[0m\n",
            "\u001b[0;31mKeyError\u001b[0m: 'District'"
          ]
        }
      ]
    },
    {
      "cell_type": "code",
      "metadata": {
        "colab": {
          "base_uri": "https://localhost:8080/",
          "height": 232
        },
        "id": "zHfbbba3iin2",
        "outputId": "92218408-af30-4aee-8355-0b35b961e3a6"
      },
      "source": [
        "plt.bar(0, Essex)\r\n",
        "plt.title('Country Vs GDP Per Capita')\r\n",
        "plt.xlabel('Country')\r\n",
        "plt.ylabel('GDP Per Capita')\r\n",
        "plt.show()"
      ],
      "execution_count": 97,
      "outputs": [
        {
          "output_type": "error",
          "ename": "NameError",
          "evalue": "ignored",
          "traceback": [
            "\u001b[0;31m---------------------------------------------------------------------------\u001b[0m",
            "\u001b[0;31mNameError\u001b[0m                                 Traceback (most recent call last)",
            "\u001b[0;32m<ipython-input-97-555b95470222>\u001b[0m in \u001b[0;36m<module>\u001b[0;34m()\u001b[0m\n\u001b[0;32m----> 1\u001b[0;31m \u001b[0mplt\u001b[0m\u001b[0;34m.\u001b[0m\u001b[0mbar\u001b[0m\u001b[0;34m(\u001b[0m\u001b[0;36m0\u001b[0m\u001b[0;34m,\u001b[0m \u001b[0mEssex\u001b[0m\u001b[0;34m)\u001b[0m\u001b[0;34m\u001b[0m\u001b[0;34m\u001b[0m\u001b[0m\n\u001b[0m\u001b[1;32m      2\u001b[0m \u001b[0mplt\u001b[0m\u001b[0;34m.\u001b[0m\u001b[0mtitle\u001b[0m\u001b[0;34m(\u001b[0m\u001b[0;34m'Country Vs GDP Per Capita'\u001b[0m\u001b[0;34m)\u001b[0m\u001b[0;34m\u001b[0m\u001b[0;34m\u001b[0m\u001b[0m\n\u001b[1;32m      3\u001b[0m \u001b[0mplt\u001b[0m\u001b[0;34m.\u001b[0m\u001b[0mxlabel\u001b[0m\u001b[0;34m(\u001b[0m\u001b[0;34m'Country'\u001b[0m\u001b[0;34m)\u001b[0m\u001b[0;34m\u001b[0m\u001b[0;34m\u001b[0m\u001b[0m\n\u001b[1;32m      4\u001b[0m \u001b[0mplt\u001b[0m\u001b[0;34m.\u001b[0m\u001b[0mylabel\u001b[0m\u001b[0;34m(\u001b[0m\u001b[0;34m'GDP Per Capita'\u001b[0m\u001b[0;34m)\u001b[0m\u001b[0;34m\u001b[0m\u001b[0;34m\u001b[0m\u001b[0m\n\u001b[1;32m      5\u001b[0m \u001b[0mplt\u001b[0m\u001b[0;34m.\u001b[0m\u001b[0mshow\u001b[0m\u001b[0;34m(\u001b[0m\u001b[0;34m)\u001b[0m\u001b[0;34m\u001b[0m\u001b[0;34m\u001b[0m\u001b[0m\n",
            "\u001b[0;31mNameError\u001b[0m: name 'Essex' is not defined"
          ]
        }
      ]
    }
  ]
}